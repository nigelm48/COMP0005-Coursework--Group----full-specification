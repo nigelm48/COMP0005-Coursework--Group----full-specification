{
 "cells": [
  {
   "cell_type": "markdown",
   "metadata": {},
   "source": [
    "# COMP0005 - GROUP COURSEWORK 2023-24\n",
    "# Gesture Recognition via Convex Hull "
   ]
  },
  {
   "cell_type": "markdown",
   "metadata": {},
   "source": [
    "Use the cell below for all python code needed to realise the **Jarvis march algorithm** (including auxiliary data structures and functions needed by this algorithm - if any). The `jarvismarch()` function itself should take as input parameter a list of 2D points (`inputSet`), and return the subset of such points (`outputSet`) that lie on the convex hull."
   ]
  },
  {
   "cell_type": "code",
   "execution_count": 1,
   "metadata": {},
   "outputs": [
    {
     "name": "stdout",
     "output_type": "stream",
     "text": [
      "[[0, 3], [0, 0], [3, 0], [3, 3]]\n"
     ]
    }
   ],
   "source": [
    "def jarvismarch(inputSet):\n",
    "    '''\n",
    "    Returns the list of points that lie on the convex hull (Jarvis March algorithm)\n",
    "            Parameters:\n",
    "                    inputSet (list): a list of 2D points\n",
    "\n",
    "            Returns:\n",
    "                    outputSet (list): a list of 2D points\n",
    "    '''\n",
    "\n",
    "    # Returns the orientation of triplet (p, q, r)\n",
    "    # 0 -> p, q, and r are colinear\n",
    "    # 1 -> Clockwise\n",
    "    # 2 -> Counterclockwise\n",
    "    def orientation(p, q, r):\n",
    "        val = (q[1] - p[1]) * (r[0] - q[0]) - (q[0] - p[0]) * (r[1] - q[1])\n",
    "        if val == 0: return 0  # colinear\n",
    "        return 1 if val > 0 else 2  # clockwise or counterclockwise\n",
    "\n",
    "    n = len(inputSet)\n",
    "    if n < 3:\n",
    "        return []\n",
    "\n",
    "    # Find the leftmost point\n",
    "    l = min(range(n), key=lambda i: inputSet[i][0])\n",
    "    hull = []\n",
    "    p = l\n",
    "    q = 0\n",
    "    while True:\n",
    "        hull.append(p)\n",
    "        q = (p + 1) % n\n",
    "        for i in range(n):\n",
    "            if orientation(inputSet[p], inputSet[i], inputSet[q]) == 2:\n",
    "                q = i\n",
    "        p = q\n",
    "        if p == l:\n",
    "            break\n",
    "\n",
    "    # Build the convex hull from the points\n",
    "    outputSet = [inputSet[i] for i in hull]\n",
    "    return outputSet\n",
    "\n",
    "inputSet = [[0, 3], [2, 2], [1, 1], [2, 1], [3, 0], [0, 0], [3, 3]]\n",
    "print(jarvismarch(inputSet))\n"
   ]
  },
  {
   "cell_type": "markdown",
   "metadata": {},
   "source": [
    "Use the cell below for all python code needed to realise the **Graham scan** algorithm (including auxiliary data structures and functions needed by this algorithm - if any). The `grahamscan()` function itself should take as input parameter a list of 2D points (`inputSet`), and return the subset of such points that lie on the convex hull (`outputSet`)."
   ]
  },
  {
   "cell_type": "code",
   "execution_count": 2,
   "metadata": {},
   "outputs": [
    {
     "name": "stdout",
     "output_type": "stream",
     "text": [
      "[[3, 0], [3, 3], [0, 3], [0, 0]]\n"
     ]
    }
   ],
   "source": [
    "def grahamscan(inputSet):\n",
    "    '''\n",
    "    Returns the list of points that lie on the convex hull (Graham Scan algorithm)\n",
    "            Parameters:\n",
    "                    inputSet (list): a list of 2D points\n",
    "\n",
    "            Returns:\n",
    "                    outputSet (list): a list of 2D points\n",
    "    '''\n",
    "\n",
    "    # Find the orientation of three points (p, q, r)\n",
    "    # 0 -> Colinear\n",
    "    # 1 -> Clockwise\n",
    "    # 2 -> Counterclockwise\n",
    "    def orientation(p, q, r):\n",
    "        val = (q[1] - p[1]) * (r[0] - q[0]) - (q[0] - p[0]) * (r[1] - q[1])\n",
    "        if val == 0: return 0  # Colinear\n",
    "        return 1 if val > 0 else 2  # Clockwise or Counterclockwise\n",
    "\n",
    "    # Function to find the next-to-top element in the stack\n",
    "    def next_to_top(S):\n",
    "        return S[-2]\n",
    "\n",
    "    from math import atan2  # Import atan2 function\n",
    "\n",
    "    n = len(inputSet)\n",
    "    if n < 3:\n",
    "        return []\n",
    "\n",
    "    # Find the bottommost point\n",
    "    ymin = min(inputSet, key=lambda point: point[1])\n",
    "    ymin_idx = inputSet.index(ymin)\n",
    "\n",
    "    # Swap the bottommost point with the first point\n",
    "    inputSet[0], inputSet[ymin_idx] = inputSet[ymin_idx], inputSet[0]\n",
    "\n",
    "    # Sort points by polar angle with respect to the bottommost point\n",
    "    def polar_angle(p):\n",
    "        return atan2(p[1] - inputSet[0][1], p[0] - inputSet[0][0])\n",
    "\n",
    "    inputSet[1:] = sorted(inputSet[1:], key=polar_angle)\n",
    "\n",
    "    # Initialize stack\n",
    "    stack = [inputSet[0], inputSet[1], inputSet[2]]\n",
    "\n",
    "    for i in range(3, n):\n",
    "        # Keep removing the top while the angle formed by points next-to-top, top, and points[i] makes a non-left turn\n",
    "        while len(stack) > 1 and orientation(next_to_top(stack), stack[-1], inputSet[i]) != 2:\n",
    "            stack.pop()\n",
    "        stack.append(inputSet[i])\n",
    "\n",
    "    outputSet = stack\n",
    "    return outputSet\n",
    "\n",
    "inputSet = [[0, 3], [2, 2], [1, 1], [2, 1], [3, 0], [0, 0], [3, 3]]\n",
    "print(grahamscan(inputSet))\n"
   ]
  },
  {
   "cell_type": "markdown",
   "metadata": {},
   "source": [
    "Use the cell below for all python code needed to realise the **Chen's** algorithm (including auxiliary data structures and functions needed by this algorithm - if any). The `chen()` function itself should take as input parameter a list of 2D points (`inputSet`), and return the subset of such points that lie on the convex hull (`outputSet`)."
   ]
  },
  {
   "cell_type": "code",
   "execution_count": 3,
   "metadata": {},
   "outputs": [
    {
     "name": "stdout",
     "output_type": "stream",
     "text": [
      "[[0, 3], [3, 3], [3, 0], [0, 0]]\n"
     ]
    }
   ],
   "source": [
    "def chen(inputSet):\n",
    "    '''\n",
    "    Returns the list of points that lie on the convex hull (Chen's algorithm)\n",
    "            Parameters:\n",
    "                    inputSet (list): a list of 2D points\n",
    "\n",
    "            Returns:\n",
    "                    outputSet (list): a list of 2D points\n",
    "    '''\n",
    "\n",
    "    # Sort points based on x-coordinate\n",
    "    inputSet.sort(key=lambda point: point[0])\n",
    "\n",
    "    # Initialize the upper and lower hulls\n",
    "    upper_hull = []\n",
    "    lower_hull = []\n",
    "\n",
    "    # Constructing upper hull\n",
    "    for point in inputSet:\n",
    "        while len(upper_hull) >= 2 and (upper_hull[-1][1] - upper_hull[-2][1]) * (point[0] - upper_hull[-2][0]) <= (\n",
    "                upper_hull[-1][0] - upper_hull[-2][0]) * (point[1] - upper_hull[-2][1]):\n",
    "            upper_hull.pop()\n",
    "        upper_hull.append(point)\n",
    "\n",
    "    # Constructing lower hull\n",
    "    for point in reversed(inputSet):\n",
    "        while len(lower_hull) >= 2 and (lower_hull[-1][1] - lower_hull[-2][1]) * (point[0] - lower_hull[-2][0]) <= (\n",
    "                lower_hull[-1][0] - lower_hull[-2][0]) * (point[1] - lower_hull[-2][1]):\n",
    "            lower_hull.pop()\n",
    "        lower_hull.append(point)\n",
    "\n",
    "    # Concatenate upper and lower hulls (excluding the endpoints which are common)\n",
    "    outputSet = upper_hull[:-1] + lower_hull[:-1]\n",
    "\n",
    "    return outputSet\n",
    "\n",
    "inputSet = [[0, 3], [2, 2], [1, 1], [2, 1], [3, 0], [0, 0], [3, 3]]\n",
    "print(chen(inputSet))"
   ]
  },
  {
   "cell_type": "markdown",
   "metadata": {},
   "source": [
    "Use the cell below to implement the **synthetic data generator** needed by your experimental framework (including any auxiliary data structures and functions you might need - be mindful of code readability and reusability)."
   ]
  },
  {
   "cell_type": "code",
   "execution_count": 4,
   "metadata": {},
   "outputs": [],
   "source": [
    "import random\n",
    "\n",
    "class TestDataGenerator():\n",
    "    \"\"\"\n",
    "    A class to represent a synthetic data generator.\n",
    "\n",
    "    ...\n",
    "\n",
    "    Attributes\n",
    "    ----------\n",
    "    \n",
    "    [to be defined as part of the coursework]\n",
    "\n",
    "    Methods\n",
    "    -------\n",
    "    \n",
    "    [to be defined as part of the coursework]\n",
    "\n",
    "    \"\"\"\n",
    "        \n",
    "    #ADD YOUR CODE HERE\n",
    "    \n",
    "    def __init__():\n",
    "        pass\n"
   ]
  },
  {
   "cell_type": "markdown",
   "metadata": {},
   "source": [
    "Use the cell below to implement the requested **experimental framework** API."
   ]
  },
  {
   "cell_type": "code",
   "execution_count": 5,
   "metadata": {},
   "outputs": [],
   "source": [
    "import timeit\n",
    "import matplotlib\n",
    "\n",
    "class ExperimentalFramework():\n",
    "    \"\"\"\n",
    "    A class to represent an experimental framework.\n",
    "\n",
    "    ...\n",
    "\n",
    "    Attributes\n",
    "    ----------\n",
    "    \n",
    "    [to be defined as part of the coursework]\n",
    "\n",
    "    Methods\n",
    "    -------\n",
    "    \n",
    "    [to be defined as part of the coursework]\n",
    "\n",
    "    \"\"\"\n",
    "        \n",
    "    #ADD YOUR CODE HERE\n",
    "    \n",
    "    def __init__():\n",
    "        pass"
   ]
  },
  {
   "cell_type": "markdown",
   "metadata": {},
   "source": [
    "Use the cell below to illustrate the python code you used to **fully evaluate** the three convex hull algortihms under considerations. The code below should illustrate, for example, how you made used of the **TestDataGenerator** class to generate test data of various size and properties; how you instatiated the **ExperimentalFramework** class to  evaluate each algorithm using such data, collect information about their execution time, plots results, etc. Any results you illustrate in the companion PDF report should have been generated using the code below."
   ]
  },
  {
   "cell_type": "code",
   "execution_count": 6,
   "metadata": {},
   "outputs": [],
   "source": [
    "# ADD YOUR TEST CODE HERE \n",
    "\n",
    "\n",
    "\n"
   ]
  }
 ],
 "metadata": {
  "kernelspec": {
   "display_name": "Python 3 (ipykernel)",
   "language": "python",
   "name": "python3"
  },
  "language_info": {
   "codemirror_mode": {
    "name": "ipython",
    "version": 3
   },
   "file_extension": ".py",
   "mimetype": "text/x-python",
   "name": "python",
   "nbconvert_exporter": "python",
   "pygments_lexer": "ipython3",
   "version": "3.11.5"
  }
 },
 "nbformat": 4,
 "nbformat_minor": 4
}
